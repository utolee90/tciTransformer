{
 "cells": [
  {
   "cell_type": "code",
   "execution_count": 2,
   "id": "db96f031-56d7-43b4-b562-104903ed8178",
   "metadata": {},
   "outputs": [],
   "source": [
    "# npy 파일을 csv 파일로 변환\n",
    "\n",
    "dataset_path = './dataset/PEMS/'\n",
    "\n",
    "file_names = ['PEMS03.npz', 'PEMS04.npz', 'PEMS07.npz', 'PEMS08.npz']"
   ]
  },
  {
   "cell_type": "code",
   "execution_count": 3,
   "id": "b5c586e3-0345-49ff-a839-485a1735ccbe",
   "metadata": {},
   "outputs": [],
   "source": [
    "import numpy as np\n",
    "dt_list = []\n",
    "\n",
    "for file_name in file_names:\n",
    "    dt = np.load(dataset_path + file_name)\n",
    "    dt_l = dt['data']\n",
    "    dt_list.append(dt_l)"
   ]
  },
  {
   "cell_type": "code",
   "execution_count": 10,
   "id": "00ee4344-8615-4d61-abff-c650254a55ee",
   "metadata": {
    "scrolled": true
   },
   "outputs": [
    {
     "data": {
      "text/plain": [
       "(28224, 883, 1)"
      ]
     },
     "execution_count": 10,
     "metadata": {},
     "output_type": "execute_result"
    }
   ],
   "source": [
    "dt_list[2].shape"
   ]
  },
  {
   "cell_type": "code",
   "execution_count": 12,
   "id": "fd81133f-c092-4bd0-b020-6f367f21d2ee",
   "metadata": {},
   "outputs": [],
   "source": [
    "dt = np.load(dataset_path + file_names[0])"
   ]
  },
  {
   "cell_type": "code",
   "execution_count": 18,
   "id": "0a402d6b-8d8f-4426-87b2-fd75e7ee8f25",
   "metadata": {
    "scrolled": true
   },
   "outputs": [
    {
     "data": {
      "text/plain": [
       "(26208, 358)"
      ]
     },
     "execution_count": 18,
     "metadata": {},
     "output_type": "execute_result"
    }
   ],
   "source": [
    "dt['data'][:,:,0]"
   ]
  },
  {
   "cell_type": "code",
   "execution_count": 19,
   "id": "33ae6372-dc3d-49d3-98d4-56f6b6df618e",
   "metadata": {},
   "outputs": [],
   "source": [
    "dtl=[str(k) for k in range(357)] + ['OT']\n",
    "\n",
    "dt_txt = ','.join(dtl)\n"
   ]
  },
  {
   "cell_type": "code",
   "execution_count": 23,
   "id": "f2ab7a21-3869-45e6-b7fb-340e6fedd01d",
   "metadata": {},
   "outputs": [],
   "source": [
    "np.savetxt(dataset_path + \"PEMS03.csv\", dt['data'][:,:,0], delimiter=\",\", header=dt_txt[:-1], comments='')"
   ]
  }
 ],
 "metadata": {
  "kernelspec": {
   "display_name": "Python 3 (ipykernel)",
   "language": "python",
   "name": "python3"
  },
  "language_info": {
   "codemirror_mode": {
    "name": "ipython",
    "version": 3
   },
   "file_extension": ".py",
   "mimetype": "text/x-python",
   "name": "python",
   "nbconvert_exporter": "python",
   "pygments_lexer": "ipython3",
   "version": "3.10.12"
  }
 },
 "nbformat": 4,
 "nbformat_minor": 5
}
