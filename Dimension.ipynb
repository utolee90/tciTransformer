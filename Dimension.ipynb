{
 "cells": [
  {
   "cell_type": "code",
   "execution_count": 1,
   "id": "8a203aa7-438f-43a8-8e6b-f343069cb2bf",
   "metadata": {},
   "outputs": [],
   "source": [
    "import torch\n",
    "\n",
    "# layer 비교하기 traffic 데이터를 가져오는 식으로 비교\n",
    "from layers.Embed import *\n"
   ]
  },
  {
   "cell_type": "code",
   "execution_count": 2,
   "id": "82f434db-3dea-47de-8ecf-834eac3855bd",
   "metadata": {},
   "outputs": [],
   "source": [
    "# 관련 패키지 불러오기\n",
    "\n",
    "import torch.nn as nn\n",
    "import torch.nn.functional as F\n",
    "from layers.Transformer_EncDec import Encoder, EncoderLayer\n",
    "from layers.SelfAttention_Family import FullAttention, AttentionLayer\n",
    "import numpy as np"
   ]
  },
  {
   "cell_type": "code",
   "execution_count": 3,
   "id": "894a1919-a9cf-498c-81ff-fd011faf3d1e",
   "metadata": {},
   "outputs": [],
   "source": [
    "# 변수 정리\n",
    "\n",
    "seq_len = 96 # c_in으로 \n",
    "label_len = 48\n",
    "pred_len = 48\n",
    "e_layers = 2\n",
    "d_layers = 1\n",
    "factor = 3\n",
    "enc_in = 321\n",
    "dec_in = 321\n",
    "d_model = 512\n",
    "batch_size = 32\n",
    "c_out = 321\n",
    "des = 'Exp'\n",
    "learning_rate = 0.001\n",
    "freq = 'h' # 입력빈도 - 세팅을 일일이 해야 하는 부분\n",
    "dropout = 0.1\n",
    "embed = 'timeF' # timeF, fixed, learned\n",
    "class_strategy = 'projection'"
   ]
  },
  {
   "cell_type": "code",
   "execution_count": 4,
   "id": "bac61804-6545-42a2-9369-c620026efdce",
   "metadata": {},
   "outputs": [],
   "source": [
    "enc_transformer_embedding_0 = DataEmbedding(seq_len, d_model, embed, freq, dropout) # DataEmbedding -> d_model이 반드시 짝수"
   ]
  },
  {
   "cell_type": "code",
   "execution_count": 5,
   "id": "08f39df6-7cae-4cff-b270-e22fffa7be40",
   "metadata": {
    "scrolled": true
   },
   "outputs": [
    {
     "data": {
      "text/plain": [
       "DataEmbedding(\n",
       "  (value_embedding): TokenEmbedding(\n",
       "    (tokenConv): Conv1d(96, 512, kernel_size=(3,), stride=(1,), padding=(1,), bias=False, padding_mode=circular)\n",
       "  )\n",
       "  (position_embedding): PositionalEmbedding()\n",
       "  (temporal_embedding): TimeFeatureEmbedding(\n",
       "    (embed): Linear(in_features=4, out_features=512, bias=False)\n",
       "  )\n",
       "  (dropout): Dropout(p=0.1, inplace=False)\n",
       ")"
      ]
     },
     "execution_count": 5,
     "metadata": {},
     "output_type": "execute_result"
    }
   ],
   "source": [
    "enc_transformer_embedding_0"
   ]
  },
  {
   "cell_type": "code",
   "execution_count": 6,
   "id": "ddbcae55-052b-4758-90ec-a2e7c2484d30",
   "metadata": {},
   "outputs": [],
   "source": [
    "enc_transformer_embedding_1 = DataEmbedding_inverted(seq_len, d_model, embed, freq, dropout) # DataEmbedding -> d_model이 반드시 짝수"
   ]
  },
  {
   "cell_type": "code",
   "execution_count": 7,
   "id": "cf0ef8f2-65f2-4d43-a61b-25bd83631b78",
   "metadata": {},
   "outputs": [
    {
     "data": {
      "text/plain": [
       "DataEmbedding_inverted(\n",
       "  (value_embedding): Linear(in_features=96, out_features=512, bias=True)\n",
       "  (dropout): Dropout(p=0.1, inplace=False)\n",
       ")"
      ]
     },
     "execution_count": 7,
     "metadata": {},
     "output_type": "execute_result"
    }
   ],
   "source": [
    "enc_transformer_embedding_1"
   ]
  },
  {
   "cell_type": "code",
   "execution_count": 8,
   "id": "c27ac8bd-7f6f-44e3-af2e-27420623f1c6",
   "metadata": {},
   "outputs": [],
   "source": [
    "enc_transformer_embedding_2 = DataEmbedding_inverted_TCN(seq_len, d_model, embed, freq, dropout) # DataEmbedding -> d_model이 반드시 짝수"
   ]
  },
  {
   "cell_type": "code",
   "execution_count": 9,
   "id": "20290980-836a-4e23-880d-cff8998538ed",
   "metadata": {
    "scrolled": true
   },
   "outputs": [
    {
     "data": {
      "text/plain": [
       "DataEmbedding_inverted_TCN(\n",
       "  (value_embedding): TemporalConvNet(\n",
       "    (network): Sequential(\n",
       "      (0): TemporalBlock(\n",
       "        (conv1): Conv1d(96, 512, kernel_size=(2,), stride=(1,), padding=(1,))\n",
       "        (relu1): ReLU()\n",
       "        (dropout1): Dropout(p=0.2, inplace=False)\n",
       "        (conv2): Conv1d(512, 512, kernel_size=(2,), stride=(1,), padding=(1,))\n",
       "        (relu2): ReLU()\n",
       "        (dropout2): Dropout(p=0.2, inplace=False)\n",
       "        (net): Sequential(\n",
       "          (0): Conv1d(96, 512, kernel_size=(2,), stride=(1,), padding=(1,))\n",
       "          (1): ReLU()\n",
       "          (2): Dropout(p=0.2, inplace=False)\n",
       "          (3): Conv1d(512, 512, kernel_size=(2,), stride=(1,), padding=(1,))\n",
       "          (4): ReLU()\n",
       "          (5): Dropout(p=0.2, inplace=False)\n",
       "        )\n",
       "        (downsample): Conv1d(96, 512, kernel_size=(1,), stride=(1,))\n",
       "        (relu): ReLU()\n",
       "      )\n",
       "      (1): TemporalBlock(\n",
       "        (conv1): Conv1d(512, 512, kernel_size=(2,), stride=(1,), padding=(2,), dilation=(2,))\n",
       "        (relu1): ReLU()\n",
       "        (dropout1): Dropout(p=0.2, inplace=False)\n",
       "        (conv2): Conv1d(512, 512, kernel_size=(2,), stride=(1,), padding=(2,), dilation=(2,))\n",
       "        (relu2): ReLU()\n",
       "        (dropout2): Dropout(p=0.2, inplace=False)\n",
       "        (net): Sequential(\n",
       "          (0): Conv1d(512, 512, kernel_size=(2,), stride=(1,), padding=(2,), dilation=(2,))\n",
       "          (1): ReLU()\n",
       "          (2): Dropout(p=0.2, inplace=False)\n",
       "          (3): Conv1d(512, 512, kernel_size=(2,), stride=(1,), padding=(2,), dilation=(2,))\n",
       "          (4): ReLU()\n",
       "          (5): Dropout(p=0.2, inplace=False)\n",
       "        )\n",
       "        (relu): ReLU()\n",
       "      )\n",
       "      (2): TemporalBlock(\n",
       "        (conv1): Conv1d(512, 512, kernel_size=(2,), stride=(1,), padding=(4,), dilation=(4,))\n",
       "        (relu1): ReLU()\n",
       "        (dropout1): Dropout(p=0.2, inplace=False)\n",
       "        (conv2): Conv1d(512, 512, kernel_size=(2,), stride=(1,), padding=(4,), dilation=(4,))\n",
       "        (relu2): ReLU()\n",
       "        (dropout2): Dropout(p=0.2, inplace=False)\n",
       "        (net): Sequential(\n",
       "          (0): Conv1d(512, 512, kernel_size=(2,), stride=(1,), padding=(4,), dilation=(4,))\n",
       "          (1): ReLU()\n",
       "          (2): Dropout(p=0.2, inplace=False)\n",
       "          (3): Conv1d(512, 512, kernel_size=(2,), stride=(1,), padding=(4,), dilation=(4,))\n",
       "          (4): ReLU()\n",
       "          (5): Dropout(p=0.2, inplace=False)\n",
       "        )\n",
       "        (relu): ReLU()\n",
       "      )\n",
       "    )\n",
       "  )\n",
       "  (dropout): Dropout(p=0.1, inplace=False)\n",
       ")"
      ]
     },
     "execution_count": 9,
     "metadata": {},
     "output_type": "execute_result"
    }
   ],
   "source": [
    "enc_transformer_embedding_2"
   ]
  },
  {
   "cell_type": "code",
   "execution_count": 11,
   "id": "23355f27-f8d4-486c-af91-bc413d427d11",
   "metadata": {},
   "outputs": [],
   "source": [
    "dummy_input = torch.randn(batch_size, enc_in, seq_len)"
   ]
  },
  {
   "cell_type": "code",
   "execution_count": 12,
   "id": "33871b3d-668e-4426-9327-0a951b9ec3a2",
   "metadata": {
    "scrolled": true
   },
   "outputs": [
    {
     "data": {
      "text/plain": [
       "tensor([[[ 1.4471, -0.1383, -0.1616,  ..., -0.0615, -1.1846,  1.1072],\n",
       "         [ 0.0789, -0.9835, -0.5236,  ..., -0.6217, -1.0600,  0.4784],\n",
       "         [ 0.1917,  0.3444, -1.2287,  ..., -0.6268, -0.3823,  0.7940],\n",
       "         ...,\n",
       "         [ 0.6642, -0.1015,  0.0799,  ...,  0.3088,  1.3785, -0.1309],\n",
       "         [ 0.9941,  1.3404,  0.8640,  ...,  0.3308, -0.6234, -2.2929],\n",
       "         [-0.8761,  0.6225,  0.7319,  ..., -0.0788, -0.5455, -1.0578]],\n",
       "\n",
       "        [[ 0.2641, -0.8465, -0.1363,  ..., -1.6826, -1.0207,  0.6776],\n",
       "         [-0.9248, -2.3743,  0.8127,  ..., -0.4400, -1.6505,  0.7345],\n",
       "         [-0.8364, -0.5805, -0.8539,  ..., -1.2674, -0.8364, -0.2391],\n",
       "         ...,\n",
       "         [ 1.1862,  0.5631,  0.2783,  ...,  0.3763, -0.4193, -2.0210],\n",
       "         [-1.1822,  0.3717,  1.9572,  ...,  1.0209, -1.3553,  0.3346],\n",
       "         [-0.0609,  0.1561,  0.2156,  ...,  0.7570,  0.2979, -0.7982]],\n",
       "\n",
       "        [[ 0.9947, -0.7507,  1.2363,  ..., -1.1301,  2.0397,  0.8976],\n",
       "         [-1.1290,  1.1042,  0.6116,  ..., -1.3834, -1.0259,  0.9618],\n",
       "         [-0.9881, -0.4823,  1.4945,  ...,  0.7254,  1.4563,  0.1388],\n",
       "         ...,\n",
       "         [ 0.5393,  0.4397, -0.2166,  ...,  0.4696,  1.2977, -0.2406],\n",
       "         [ 1.1875,  0.1831,  0.3706,  ..., -0.6267, -1.2958,  1.6768],\n",
       "         [ 0.6158, -0.0158,  1.9414,  ...,  0.0885,  1.1231,  0.7915]],\n",
       "\n",
       "        ...,\n",
       "\n",
       "        [[ 1.1674,  0.5941, -1.3282,  ..., -0.0418, -0.5014,  1.1838],\n",
       "         [-0.0879,  0.4328, -0.1995,  ...,  1.6800,  1.2004, -0.9588],\n",
       "         [-0.1917, -0.5892,  1.4262,  ..., -1.6191, -0.8063,  0.0551],\n",
       "         ...,\n",
       "         [ 0.7349,  0.4284,  1.3454,  ..., -1.4925,  1.6561,  0.5994],\n",
       "         [-0.5822,  1.0959, -1.0179,  ..., -0.2415,  0.1846, -0.0097],\n",
       "         [-0.6490, -0.0457, -1.5123,  ...,  2.3949, -1.4311, -2.8874]],\n",
       "\n",
       "        [[ 0.6489, -1.4795, -0.6354,  ..., -1.4348, -0.8910, -1.4654],\n",
       "         [-0.1084,  0.7232, -1.2494,  ..., -2.0342,  1.3710, -1.3602],\n",
       "         [-1.7921, -0.2394,  1.1818,  ..., -0.1972, -1.8311,  0.9501],\n",
       "         ...,\n",
       "         [ 0.2385,  0.5691,  0.2441,  ..., -1.1620,  0.8237, -0.1981],\n",
       "         [ 0.8714,  0.2925, -1.5242,  ..., -0.2688, -0.0784,  0.1554],\n",
       "         [-0.1475,  0.0036,  1.4575,  ..., -2.0024, -0.0677, -0.2838]],\n",
       "\n",
       "        [[ 0.0351,  0.2206, -0.3516,  ..., -1.4608,  0.8643,  1.6203],\n",
       "         [ 0.6728, -0.0224, -0.1714,  ...,  0.5524, -1.1293, -0.3368],\n",
       "         [-1.8099,  0.5905, -0.9155,  ...,  0.0593, -1.2391, -0.4127],\n",
       "         ...,\n",
       "         [-0.6089, -0.6887,  0.5724,  ..., -1.1184,  0.1235, -0.6857],\n",
       "         [-1.0267, -0.3319, -1.3770,  ...,  2.5208,  0.2288,  0.2927],\n",
       "         [ 0.0071,  1.8244,  1.7946,  ...,  1.4860,  1.2031,  0.7484]]])"
      ]
     },
     "execution_count": 12,
     "metadata": {},
     "output_type": "execute_result"
    }
   ],
   "source": [
    "dummy_input\n"
   ]
  },
  {
   "cell_type": "code",
   "execution_count": 13,
   "id": "cd861625-8b49-464a-93bd-5f73783ae99c",
   "metadata": {},
   "outputs": [
    {
     "data": {
      "text/plain": [
       "torch.Size([32, 321, 96])"
      ]
     },
     "execution_count": 13,
     "metadata": {},
     "output_type": "execute_result"
    }
   ],
   "source": [
    "dummy_input.size()"
   ]
  },
  {
   "cell_type": "code",
   "execution_count": 14,
   "id": "d70b4794-5dcf-4ae3-8ecc-1f8d77a81c2f",
   "metadata": {},
   "outputs": [],
   "source": [
    "dummy_input_0 = dummy_input.permute(0,2,1)"
   ]
  },
  {
   "cell_type": "code",
   "execution_count": 15,
   "id": "f9de4cfc-1230-4ee9-b05c-7b589dc92ab7",
   "metadata": {
    "scrolled": true
   },
   "outputs": [],
   "source": [
    "output_0 = enc_transformer_embedding_0(dummy_input, None)"
   ]
  },
  {
   "cell_type": "code",
   "execution_count": 16,
   "id": "074433d9-3fc0-4984-91ca-f484a122231d",
   "metadata": {},
   "outputs": [
    {
     "data": {
      "text/plain": [
       "torch.Size([32, 321, 512])"
      ]
     },
     "execution_count": 16,
     "metadata": {},
     "output_type": "execute_result"
    }
   ],
   "source": [
    "output_0.size()"
   ]
  },
  {
   "cell_type": "code",
   "execution_count": 18,
   "id": "461e83c1-bd26-4971-899f-100f596652ef",
   "metadata": {},
   "outputs": [],
   "source": [
    "output_1 = enc_transformer_embedding_1(dummy_input_0, None)"
   ]
  },
  {
   "cell_type": "code",
   "execution_count": 19,
   "id": "7b6eb1be-8eba-41bc-92cb-6ed6c83b451e",
   "metadata": {
    "scrolled": true
   },
   "outputs": [
    {
     "data": {
      "text/plain": [
       "tensor([[[-3.3098e-01,  6.3905e-01, -5.8549e-01,  ..., -6.5899e-01,\n",
       "           4.5427e-02, -2.9960e-01],\n",
       "         [ 4.5091e-01,  9.7193e-02,  4.3653e-01,  ..., -1.0514e+00,\n",
       "           3.7163e-01, -2.0646e-01],\n",
       "         [-5.0228e-01, -2.6824e-01, -1.1385e-01,  ...,  8.2904e-02,\n",
       "           3.0099e-01, -8.3608e-01],\n",
       "         ...,\n",
       "         [ 6.5376e-01,  7.3982e-01, -0.0000e+00,  ...,  6.5805e-02,\n",
       "           5.2746e-01, -5.9305e-01],\n",
       "         [ 1.4339e+00,  5.9361e-01,  8.8020e-01,  ..., -1.3848e-01,\n",
       "           2.5996e-02,  2.5043e-01],\n",
       "         [ 0.0000e+00,  3.8074e-01,  5.4075e-01,  ..., -2.9867e-01,\n",
       "           4.8203e-01, -9.3896e-01]],\n",
       "\n",
       "        [[ 5.2140e-02,  1.9072e-01, -0.0000e+00,  ..., -6.4225e-01,\n",
       "           7.1435e-01, -3.4063e-01],\n",
       "         [ 1.4512e-01,  1.5817e-01,  8.9681e-02,  ..., -2.1585e-02,\n",
       "           3.5318e-01, -1.5188e+00],\n",
       "         [-0.0000e+00, -6.1943e-01, -2.5924e-01,  ...,  5.9583e-01,\n",
       "          -3.7397e-01, -1.0606e+00],\n",
       "         ...,\n",
       "         [ 1.3554e+00,  9.4485e-01,  5.3710e-03,  ..., -9.7191e-01,\n",
       "          -0.0000e+00,  7.6914e-01],\n",
       "         [ 2.2936e-02, -4.2804e-01,  2.4645e-01,  ..., -0.0000e+00,\n",
       "           4.8464e-01, -4.3773e-01],\n",
       "         [ 1.1874e+00,  1.3854e-01,  8.9984e-02,  ..., -4.6843e-01,\n",
       "          -6.3045e-02,  2.7180e-01]],\n",
       "\n",
       "        [[ 2.2874e-01, -1.7754e+00, -1.2078e+00,  ..., -4.2996e-01,\n",
       "           1.7188e+00,  0.0000e+00],\n",
       "         [-1.0605e-01,  0.0000e+00, -9.7978e-01,  ...,  0.0000e+00,\n",
       "           1.6650e-01, -7.7334e-01],\n",
       "         [-9.9660e-01, -9.1514e-01, -7.3021e-01,  ...,  6.3624e-01,\n",
       "           3.3731e-02, -7.5833e-01],\n",
       "         ...,\n",
       "         [-4.5914e-01,  0.0000e+00, -3.6269e-01,  ...,  9.5665e-01,\n",
       "          -7.6816e-01, -1.4081e-01],\n",
       "         [ 3.4062e-01,  4.3160e-01, -2.9427e-01,  ...,  2.4376e-01,\n",
       "          -8.8225e-01,  7.0729e-01],\n",
       "         [ 1.3516e+00,  7.5073e-01, -6.6684e-02,  ...,  1.0540e+00,\n",
       "          -1.5503e-01,  2.1971e-01]],\n",
       "\n",
       "        ...,\n",
       "\n",
       "        [[-9.5636e-01,  8.6255e-01, -7.9408e-04,  ...,  1.1349e+00,\n",
       "          -1.3006e+00,  2.4286e-01],\n",
       "         [ 1.0063e+00, -6.2949e-02, -0.0000e+00,  ..., -3.4052e-01,\n",
       "          -0.0000e+00,  5.8720e-01],\n",
       "         [-1.1253e+00, -3.8121e-02, -4.7204e-01,  ...,  7.4099e-01,\n",
       "           1.7442e-01, -7.6534e-01],\n",
       "         ...,\n",
       "         [ 1.4170e+00,  6.0109e-01, -2.7948e-01,  ...,  3.3828e-01,\n",
       "           9.0316e-01, -7.9505e-01],\n",
       "         [ 7.6299e-01,  9.6162e-01, -1.2240e-01,  ...,  1.1040e+00,\n",
       "          -4.3741e-01, -8.4774e-01],\n",
       "         [-1.5664e-01, -1.4311e+00, -4.1534e-01,  ...,  2.4563e-02,\n",
       "          -2.1790e-01,  5.3707e-01]],\n",
       "\n",
       "        [[-5.7454e-01,  1.0062e-01, -3.0773e-01,  ...,  2.4786e-01,\n",
       "          -4.8985e-01, -2.1833e-01],\n",
       "         [-1.7232e-01, -6.4064e-01, -1.2357e+00,  ..., -5.0205e-01,\n",
       "           1.4566e+00,  1.6577e+00],\n",
       "         [-5.5191e-01, -4.2580e-01,  1.8098e-02,  ...,  6.2560e-01,\n",
       "          -9.0510e-01, -1.3659e+00],\n",
       "         ...,\n",
       "         [ 4.6074e-03,  6.8125e-01, -3.8411e-01,  ...,  3.1669e-01,\n",
       "           9.4810e-01,  0.0000e+00],\n",
       "         [ 9.1880e-01,  6.4661e-02, -3.8955e-01,  ..., -1.5206e-01,\n",
       "          -1.8535e-01,  4.2742e-02],\n",
       "         [-6.0126e-01, -7.1009e-02, -1.4650e+00,  ...,  2.1732e-01,\n",
       "           8.7433e-01,  1.7419e-01]],\n",
       "\n",
       "        [[ 9.8298e-01,  2.2168e-01,  6.2365e-01,  ..., -2.7919e-01,\n",
       "           3.3755e-01, -2.5088e-01],\n",
       "         [ 3.9138e-01,  3.9414e-01, -2.5692e-01,  ...,  4.1991e-01,\n",
       "          -3.5919e-01,  2.0503e-01],\n",
       "         [-9.7940e-01,  1.1194e-01,  1.6488e-02,  ..., -9.7021e-01,\n",
       "           8.3235e-01, -6.0970e-01],\n",
       "         ...,\n",
       "         [ 0.0000e+00,  3.5302e-02,  3.6257e-01,  ...,  2.9717e-01,\n",
       "           1.1982e+00,  3.7247e-01],\n",
       "         [-4.0340e-01, -0.0000e+00,  1.3148e+00,  ..., -0.0000e+00,\n",
       "           2.9653e-01, -1.2150e-01],\n",
       "         [ 1.0028e+00,  2.3919e-01, -1.7296e-01,  ...,  5.7408e-01,\n",
       "           1.0932e+00, -5.7568e-01]]], grad_fn=<MulBackward0>)"
      ]
     },
     "execution_count": 19,
     "metadata": {},
     "output_type": "execute_result"
    }
   ],
   "source": [
    "output_1"
   ]
  },
  {
   "cell_type": "code",
   "execution_count": 20,
   "id": "f78f607b-eae7-450e-93a0-7455e3a5dedd",
   "metadata": {},
   "outputs": [
    {
     "data": {
      "text/plain": [
       "torch.Size([32, 321, 512])"
      ]
     },
     "execution_count": 20,
     "metadata": {},
     "output_type": "execute_result"
    }
   ],
   "source": [
    "output_1.size()"
   ]
  },
  {
   "cell_type": "code",
   "execution_count": 21,
   "id": "0a0b9c58-05d9-481c-b440-955017bbfb2d",
   "metadata": {
    "scrolled": true
   },
   "outputs": [
    {
     "name": "stdout",
     "output_type": "stream",
     "text": [
      "Input size: torch.Size([32, 96, 321])\n",
      "Input size: torch.Size([32, 512, 323])\n",
      "Input size: torch.Size([32, 512, 327])\n",
      "torch.Size([32, 335, 512])\n"
     ]
    }
   ],
   "source": [
    "output_2 = enc_transformer_embedding_2(dummy_input_0, None)"
   ]
  },
  {
   "cell_type": "code",
   "execution_count": 37,
   "id": "8406b1c4-268e-46e8-a12d-8d5dd8a01d10",
   "metadata": {},
   "outputs": [],
   "source": [
    "temporal_block = TemporalBlock(96, 512, 2,1,1,1)"
   ]
  },
  {
   "cell_type": "code",
   "execution_count": 39,
   "id": "143ba540-d642-4fa7-bbe6-ad4016aefdab",
   "metadata": {},
   "outputs": [],
   "source": [
    "output_temporal = temporal_block(dummy_input_0)"
   ]
  },
  {
   "cell_type": "code",
   "execution_count": 40,
   "id": "e8b9472e-49bd-4c60-b833-156617747cfe",
   "metadata": {},
   "outputs": [
    {
     "data": {
      "text/plain": [
       "torch.Size([32, 512, 323])"
      ]
     },
     "execution_count": 40,
     "metadata": {},
     "output_type": "execute_result"
    }
   ],
   "source": [
    "output_temporal.size()"
   ]
  },
  {
   "cell_type": "code",
   "execution_count": 38,
   "id": "c5a9f873-c48b-4561-a74a-7268a7c29dd2",
   "metadata": {},
   "outputs": [
    {
     "ename": "RuntimeError",
     "evalue": "Given groups=1, weight of size [512, 96, 2], expected input[32, 321, 96] to have 96 channels, but got 321 channels instead",
     "output_type": "error",
     "traceback": [
      "\u001b[1;31m---------------------------------------------------------------------------\u001b[0m",
      "\u001b[1;31mRuntimeError\u001b[0m                              Traceback (most recent call last)",
      "Cell \u001b[1;32mIn[38], line 1\u001b[0m\n\u001b[1;32m----> 1\u001b[0m output_temporal \u001b[38;5;241m=\u001b[39m \u001b[43mtemporal_block\u001b[49m\u001b[43m(\u001b[49m\u001b[43mdummy_input\u001b[49m\u001b[43m)\u001b[49m\n",
      "File \u001b[1;32m~\\anaconda3\\envs\\tcitransformer\\Lib\\site-packages\\torch\\nn\\modules\\module.py:1501\u001b[0m, in \u001b[0;36mModule._call_impl\u001b[1;34m(self, *args, **kwargs)\u001b[0m\n\u001b[0;32m   1496\u001b[0m \u001b[38;5;66;03m# If we don't have any hooks, we want to skip the rest of the logic in\u001b[39;00m\n\u001b[0;32m   1497\u001b[0m \u001b[38;5;66;03m# this function, and just call forward.\u001b[39;00m\n\u001b[0;32m   1498\u001b[0m \u001b[38;5;28;01mif\u001b[39;00m \u001b[38;5;129;01mnot\u001b[39;00m (\u001b[38;5;28mself\u001b[39m\u001b[38;5;241m.\u001b[39m_backward_hooks \u001b[38;5;129;01mor\u001b[39;00m \u001b[38;5;28mself\u001b[39m\u001b[38;5;241m.\u001b[39m_backward_pre_hooks \u001b[38;5;129;01mor\u001b[39;00m \u001b[38;5;28mself\u001b[39m\u001b[38;5;241m.\u001b[39m_forward_hooks \u001b[38;5;129;01mor\u001b[39;00m \u001b[38;5;28mself\u001b[39m\u001b[38;5;241m.\u001b[39m_forward_pre_hooks\n\u001b[0;32m   1499\u001b[0m         \u001b[38;5;129;01mor\u001b[39;00m _global_backward_pre_hooks \u001b[38;5;129;01mor\u001b[39;00m _global_backward_hooks\n\u001b[0;32m   1500\u001b[0m         \u001b[38;5;129;01mor\u001b[39;00m _global_forward_hooks \u001b[38;5;129;01mor\u001b[39;00m _global_forward_pre_hooks):\n\u001b[1;32m-> 1501\u001b[0m     \u001b[38;5;28;01mreturn\u001b[39;00m \u001b[43mforward_call\u001b[49m\u001b[43m(\u001b[49m\u001b[38;5;241;43m*\u001b[39;49m\u001b[43margs\u001b[49m\u001b[43m,\u001b[49m\u001b[43m \u001b[49m\u001b[38;5;241;43m*\u001b[39;49m\u001b[38;5;241;43m*\u001b[39;49m\u001b[43mkwargs\u001b[49m\u001b[43m)\u001b[49m\n\u001b[0;32m   1502\u001b[0m \u001b[38;5;66;03m# Do not call functions when jit is used\u001b[39;00m\n\u001b[0;32m   1503\u001b[0m full_backward_hooks, non_full_backward_hooks \u001b[38;5;241m=\u001b[39m [], []\n",
      "File \u001b[1;32m~\\test\\tciTransformer\\layers\\Embed.py:173\u001b[0m, in \u001b[0;36mTemporalBlock.forward\u001b[1;34m(self, x)\u001b[0m\n\u001b[0;32m    171\u001b[0m     x \u001b[38;5;241m=\u001b[39m x\u001b[38;5;241m.\u001b[39mpermute(\u001b[38;5;241m0\u001b[39m, \u001b[38;5;241m2\u001b[39m, \u001b[38;5;241m1\u001b[39m) \u001b[38;5;66;03m# 추가\u001b[39;00m\n\u001b[0;32m    172\u001b[0m \u001b[38;5;66;03m# print(\"Input size:\", x.size())\u001b[39;00m\n\u001b[1;32m--> 173\u001b[0m out \u001b[38;5;241m=\u001b[39m \u001b[38;5;28;43mself\u001b[39;49m\u001b[38;5;241;43m.\u001b[39;49m\u001b[43mnet\u001b[49m\u001b[43m(\u001b[49m\u001b[43mx\u001b[49m\u001b[43m)\u001b[49m\n\u001b[0;32m    174\u001b[0m \u001b[38;5;66;03m# print(\"Output size after conv layers:\", out.size())\u001b[39;00m\n\u001b[0;32m    175\u001b[0m res \u001b[38;5;241m=\u001b[39m x \u001b[38;5;28;01mif\u001b[39;00m \u001b[38;5;28mself\u001b[39m\u001b[38;5;241m.\u001b[39mdownsample \u001b[38;5;129;01mis\u001b[39;00m \u001b[38;5;28;01mNone\u001b[39;00m \u001b[38;5;28;01melse\u001b[39;00m \u001b[38;5;28mself\u001b[39m\u001b[38;5;241m.\u001b[39mdownsample(x)\n",
      "File \u001b[1;32m~\\anaconda3\\envs\\tcitransformer\\Lib\\site-packages\\torch\\nn\\modules\\module.py:1501\u001b[0m, in \u001b[0;36mModule._call_impl\u001b[1;34m(self, *args, **kwargs)\u001b[0m\n\u001b[0;32m   1496\u001b[0m \u001b[38;5;66;03m# If we don't have any hooks, we want to skip the rest of the logic in\u001b[39;00m\n\u001b[0;32m   1497\u001b[0m \u001b[38;5;66;03m# this function, and just call forward.\u001b[39;00m\n\u001b[0;32m   1498\u001b[0m \u001b[38;5;28;01mif\u001b[39;00m \u001b[38;5;129;01mnot\u001b[39;00m (\u001b[38;5;28mself\u001b[39m\u001b[38;5;241m.\u001b[39m_backward_hooks \u001b[38;5;129;01mor\u001b[39;00m \u001b[38;5;28mself\u001b[39m\u001b[38;5;241m.\u001b[39m_backward_pre_hooks \u001b[38;5;129;01mor\u001b[39;00m \u001b[38;5;28mself\u001b[39m\u001b[38;5;241m.\u001b[39m_forward_hooks \u001b[38;5;129;01mor\u001b[39;00m \u001b[38;5;28mself\u001b[39m\u001b[38;5;241m.\u001b[39m_forward_pre_hooks\n\u001b[0;32m   1499\u001b[0m         \u001b[38;5;129;01mor\u001b[39;00m _global_backward_pre_hooks \u001b[38;5;129;01mor\u001b[39;00m _global_backward_hooks\n\u001b[0;32m   1500\u001b[0m         \u001b[38;5;129;01mor\u001b[39;00m _global_forward_hooks \u001b[38;5;129;01mor\u001b[39;00m _global_forward_pre_hooks):\n\u001b[1;32m-> 1501\u001b[0m     \u001b[38;5;28;01mreturn\u001b[39;00m \u001b[43mforward_call\u001b[49m\u001b[43m(\u001b[49m\u001b[38;5;241;43m*\u001b[39;49m\u001b[43margs\u001b[49m\u001b[43m,\u001b[49m\u001b[43m \u001b[49m\u001b[38;5;241;43m*\u001b[39;49m\u001b[38;5;241;43m*\u001b[39;49m\u001b[43mkwargs\u001b[49m\u001b[43m)\u001b[49m\n\u001b[0;32m   1502\u001b[0m \u001b[38;5;66;03m# Do not call functions when jit is used\u001b[39;00m\n\u001b[0;32m   1503\u001b[0m full_backward_hooks, non_full_backward_hooks \u001b[38;5;241m=\u001b[39m [], []\n",
      "File \u001b[1;32m~\\anaconda3\\envs\\tcitransformer\\Lib\\site-packages\\torch\\nn\\modules\\container.py:217\u001b[0m, in \u001b[0;36mSequential.forward\u001b[1;34m(self, input)\u001b[0m\n\u001b[0;32m    215\u001b[0m \u001b[38;5;28;01mdef\u001b[39;00m \u001b[38;5;21mforward\u001b[39m(\u001b[38;5;28mself\u001b[39m, \u001b[38;5;28minput\u001b[39m):\n\u001b[0;32m    216\u001b[0m     \u001b[38;5;28;01mfor\u001b[39;00m module \u001b[38;5;129;01min\u001b[39;00m \u001b[38;5;28mself\u001b[39m:\n\u001b[1;32m--> 217\u001b[0m         \u001b[38;5;28minput\u001b[39m \u001b[38;5;241m=\u001b[39m \u001b[43mmodule\u001b[49m\u001b[43m(\u001b[49m\u001b[38;5;28;43minput\u001b[39;49m\u001b[43m)\u001b[49m\n\u001b[0;32m    218\u001b[0m     \u001b[38;5;28;01mreturn\u001b[39;00m \u001b[38;5;28minput\u001b[39m\n",
      "File \u001b[1;32m~\\anaconda3\\envs\\tcitransformer\\Lib\\site-packages\\torch\\nn\\modules\\module.py:1501\u001b[0m, in \u001b[0;36mModule._call_impl\u001b[1;34m(self, *args, **kwargs)\u001b[0m\n\u001b[0;32m   1496\u001b[0m \u001b[38;5;66;03m# If we don't have any hooks, we want to skip the rest of the logic in\u001b[39;00m\n\u001b[0;32m   1497\u001b[0m \u001b[38;5;66;03m# this function, and just call forward.\u001b[39;00m\n\u001b[0;32m   1498\u001b[0m \u001b[38;5;28;01mif\u001b[39;00m \u001b[38;5;129;01mnot\u001b[39;00m (\u001b[38;5;28mself\u001b[39m\u001b[38;5;241m.\u001b[39m_backward_hooks \u001b[38;5;129;01mor\u001b[39;00m \u001b[38;5;28mself\u001b[39m\u001b[38;5;241m.\u001b[39m_backward_pre_hooks \u001b[38;5;129;01mor\u001b[39;00m \u001b[38;5;28mself\u001b[39m\u001b[38;5;241m.\u001b[39m_forward_hooks \u001b[38;5;129;01mor\u001b[39;00m \u001b[38;5;28mself\u001b[39m\u001b[38;5;241m.\u001b[39m_forward_pre_hooks\n\u001b[0;32m   1499\u001b[0m         \u001b[38;5;129;01mor\u001b[39;00m _global_backward_pre_hooks \u001b[38;5;129;01mor\u001b[39;00m _global_backward_hooks\n\u001b[0;32m   1500\u001b[0m         \u001b[38;5;129;01mor\u001b[39;00m _global_forward_hooks \u001b[38;5;129;01mor\u001b[39;00m _global_forward_pre_hooks):\n\u001b[1;32m-> 1501\u001b[0m     \u001b[38;5;28;01mreturn\u001b[39;00m \u001b[43mforward_call\u001b[49m\u001b[43m(\u001b[49m\u001b[38;5;241;43m*\u001b[39;49m\u001b[43margs\u001b[49m\u001b[43m,\u001b[49m\u001b[43m \u001b[49m\u001b[38;5;241;43m*\u001b[39;49m\u001b[38;5;241;43m*\u001b[39;49m\u001b[43mkwargs\u001b[49m\u001b[43m)\u001b[49m\n\u001b[0;32m   1502\u001b[0m \u001b[38;5;66;03m# Do not call functions when jit is used\u001b[39;00m\n\u001b[0;32m   1503\u001b[0m full_backward_hooks, non_full_backward_hooks \u001b[38;5;241m=\u001b[39m [], []\n",
      "File \u001b[1;32m~\\anaconda3\\envs\\tcitransformer\\Lib\\site-packages\\torch\\nn\\modules\\conv.py:313\u001b[0m, in \u001b[0;36mConv1d.forward\u001b[1;34m(self, input)\u001b[0m\n\u001b[0;32m    312\u001b[0m \u001b[38;5;28;01mdef\u001b[39;00m \u001b[38;5;21mforward\u001b[39m(\u001b[38;5;28mself\u001b[39m, \u001b[38;5;28minput\u001b[39m: Tensor) \u001b[38;5;241m-\u001b[39m\u001b[38;5;241m>\u001b[39m Tensor:\n\u001b[1;32m--> 313\u001b[0m     \u001b[38;5;28;01mreturn\u001b[39;00m \u001b[38;5;28;43mself\u001b[39;49m\u001b[38;5;241;43m.\u001b[39;49m\u001b[43m_conv_forward\u001b[49m\u001b[43m(\u001b[49m\u001b[38;5;28;43minput\u001b[39;49m\u001b[43m,\u001b[49m\u001b[43m \u001b[49m\u001b[38;5;28;43mself\u001b[39;49m\u001b[38;5;241;43m.\u001b[39;49m\u001b[43mweight\u001b[49m\u001b[43m,\u001b[49m\u001b[43m \u001b[49m\u001b[38;5;28;43mself\u001b[39;49m\u001b[38;5;241;43m.\u001b[39;49m\u001b[43mbias\u001b[49m\u001b[43m)\u001b[49m\n",
      "File \u001b[1;32m~\\anaconda3\\envs\\tcitransformer\\Lib\\site-packages\\torch\\nn\\modules\\conv.py:309\u001b[0m, in \u001b[0;36mConv1d._conv_forward\u001b[1;34m(self, input, weight, bias)\u001b[0m\n\u001b[0;32m    305\u001b[0m \u001b[38;5;28;01mif\u001b[39;00m \u001b[38;5;28mself\u001b[39m\u001b[38;5;241m.\u001b[39mpadding_mode \u001b[38;5;241m!=\u001b[39m \u001b[38;5;124m'\u001b[39m\u001b[38;5;124mzeros\u001b[39m\u001b[38;5;124m'\u001b[39m:\n\u001b[0;32m    306\u001b[0m     \u001b[38;5;28;01mreturn\u001b[39;00m F\u001b[38;5;241m.\u001b[39mconv1d(F\u001b[38;5;241m.\u001b[39mpad(\u001b[38;5;28minput\u001b[39m, \u001b[38;5;28mself\u001b[39m\u001b[38;5;241m.\u001b[39m_reversed_padding_repeated_twice, mode\u001b[38;5;241m=\u001b[39m\u001b[38;5;28mself\u001b[39m\u001b[38;5;241m.\u001b[39mpadding_mode),\n\u001b[0;32m    307\u001b[0m                     weight, bias, \u001b[38;5;28mself\u001b[39m\u001b[38;5;241m.\u001b[39mstride,\n\u001b[0;32m    308\u001b[0m                     _single(\u001b[38;5;241m0\u001b[39m), \u001b[38;5;28mself\u001b[39m\u001b[38;5;241m.\u001b[39mdilation, \u001b[38;5;28mself\u001b[39m\u001b[38;5;241m.\u001b[39mgroups)\n\u001b[1;32m--> 309\u001b[0m \u001b[38;5;28;01mreturn\u001b[39;00m \u001b[43mF\u001b[49m\u001b[38;5;241;43m.\u001b[39;49m\u001b[43mconv1d\u001b[49m\u001b[43m(\u001b[49m\u001b[38;5;28;43minput\u001b[39;49m\u001b[43m,\u001b[49m\u001b[43m \u001b[49m\u001b[43mweight\u001b[49m\u001b[43m,\u001b[49m\u001b[43m \u001b[49m\u001b[43mbias\u001b[49m\u001b[43m,\u001b[49m\u001b[43m \u001b[49m\u001b[38;5;28;43mself\u001b[39;49m\u001b[38;5;241;43m.\u001b[39;49m\u001b[43mstride\u001b[49m\u001b[43m,\u001b[49m\n\u001b[0;32m    310\u001b[0m \u001b[43m                \u001b[49m\u001b[38;5;28;43mself\u001b[39;49m\u001b[38;5;241;43m.\u001b[39;49m\u001b[43mpadding\u001b[49m\u001b[43m,\u001b[49m\u001b[43m \u001b[49m\u001b[38;5;28;43mself\u001b[39;49m\u001b[38;5;241;43m.\u001b[39;49m\u001b[43mdilation\u001b[49m\u001b[43m,\u001b[49m\u001b[43m \u001b[49m\u001b[38;5;28;43mself\u001b[39;49m\u001b[38;5;241;43m.\u001b[39;49m\u001b[43mgroups\u001b[49m\u001b[43m)\u001b[49m\n",
      "\u001b[1;31mRuntimeError\u001b[0m: Given groups=1, weight of size [512, 96, 2], expected input[32, 321, 96] to have 96 channels, but got 321 channels instead"
     ]
    }
   ],
   "source": [
    "output_temporal = temporal_block(dummy_input)"
   ]
  },
  {
   "cell_type": "code",
   "execution_count": 73,
   "id": "92a53184-da2b-465f-b1f2-f54bfee6de97",
   "metadata": {
    "scrolled": true
   },
   "outputs": [
    {
     "data": {
      "text/plain": [
       "tensor([[[2.9887e-02, 1.2409e-01, 1.7761e-01,  ..., 6.5624e-02,\n",
       "          9.7772e-03, 0.0000e+00],\n",
       "         [0.0000e+00, 2.5196e-01, 1.3163e-02,  ..., 4.3740e-02,\n",
       "          1.2417e-02, 2.1450e-02],\n",
       "         [1.3100e-01, 1.3373e-01, 5.9980e-02,  ..., 0.0000e+00,\n",
       "          7.0686e-03, 0.0000e+00],\n",
       "         ...,\n",
       "         [7.1469e-02, 0.0000e+00, 8.3666e-02,  ..., 3.7311e-03,\n",
       "          1.3744e-02, 3.9985e-03],\n",
       "         [0.0000e+00, 0.0000e+00, 1.4286e-02,  ..., 1.8574e-01,\n",
       "          3.7800e-02, 0.0000e+00],\n",
       "         [1.3890e-01, 8.2674e-02, 1.6861e-01,  ..., 0.0000e+00,\n",
       "          0.0000e+00, 0.0000e+00]],\n",
       "\n",
       "        [[0.0000e+00, 2.3342e-01, 1.2673e-01,  ..., 1.3788e-01,\n",
       "          0.0000e+00, 7.7979e-03],\n",
       "         [9.6090e-02, 0.0000e+00, 0.0000e+00,  ..., 0.0000e+00,\n",
       "          8.7233e-03, 5.6930e-02],\n",
       "         [1.1677e-01, 0.0000e+00, 5.1605e-02,  ..., 3.8304e-02,\n",
       "          2.1290e-02, 0.0000e+00],\n",
       "         ...,\n",
       "         [1.2013e-01, 2.0939e-01, 8.7630e-02,  ..., 0.0000e+00,\n",
       "          9.2156e-03, 0.0000e+00],\n",
       "         [0.0000e+00, 0.0000e+00, 0.0000e+00,  ..., 1.5371e-01,\n",
       "          1.5102e-02, 1.2320e-03],\n",
       "         [0.0000e+00, 5.8224e-02, 7.4584e-03,  ..., 1.5592e-01,\n",
       "          0.0000e+00, 0.0000e+00]],\n",
       "\n",
       "        [[3.2656e-02, 0.0000e+00, 1.6147e-01,  ..., 0.0000e+00,\n",
       "          0.0000e+00, 2.8934e-02],\n",
       "         [1.8390e-03, 0.0000e+00, 0.0000e+00,  ..., 0.0000e+00,\n",
       "          3.8491e-02, 4.5558e-03],\n",
       "         [1.5641e-03, 0.0000e+00, 9.0137e-02,  ..., 0.0000e+00,\n",
       "          0.0000e+00, 0.0000e+00],\n",
       "         ...,\n",
       "         [0.0000e+00, 5.5691e-02, 0.0000e+00,  ..., 6.0816e-02,\n",
       "          5.5804e-03, 1.0761e-02],\n",
       "         [1.1445e-01, 2.0824e-01, 9.3479e-02,  ..., 0.0000e+00,\n",
       "          0.0000e+00, 0.0000e+00],\n",
       "         [4.4372e-02, 2.2233e-01, 1.6051e-02,  ..., 9.0108e-02,\n",
       "          0.0000e+00, 0.0000e+00]],\n",
       "\n",
       "        ...,\n",
       "\n",
       "        [[2.1463e-02, 1.3402e-01, 2.1661e-01,  ..., 1.0277e-01,\n",
       "          1.7807e-02, 0.0000e+00],\n",
       "         [2.3067e-03, 1.0797e-01, 0.0000e+00,  ..., 0.0000e+00,\n",
       "          0.0000e+00, 3.0936e-02],\n",
       "         [5.8624e-02, 8.8356e-02, 8.1852e-02,  ..., 1.1971e-01,\n",
       "          0.0000e+00, 0.0000e+00],\n",
       "         ...,\n",
       "         [0.0000e+00, 1.8841e-01, 0.0000e+00,  ..., 5.4055e-02,\n",
       "          0.0000e+00, 9.2702e-03],\n",
       "         [7.9129e-02, 8.4879e-02, 1.8890e-01,  ..., 0.0000e+00,\n",
       "          0.0000e+00, 1.2054e-02],\n",
       "         [1.5641e-01, 7.5141e-02, 6.9703e-02,  ..., 1.8297e-01,\n",
       "          3.3900e-02, 0.0000e+00]],\n",
       "\n",
       "        [[0.0000e+00, 1.8477e-02, 1.1964e-01,  ..., 0.0000e+00,\n",
       "          1.8517e-02, 1.0114e-02],\n",
       "         [3.7742e-02, 1.6079e-01, 0.0000e+00,  ..., 6.8018e-02,\n",
       "          8.5941e-02, 1.3713e-02],\n",
       "         [1.2066e-01, 1.9316e-01, 5.3809e-02,  ..., 1.6909e-01,\n",
       "          0.0000e+00, 0.0000e+00],\n",
       "         ...,\n",
       "         [0.0000e+00, 5.9433e-03, 0.0000e+00,  ..., 1.6844e-01,\n",
       "          0.0000e+00, 0.0000e+00],\n",
       "         [9.6041e-02, 9.8416e-02, 2.0964e-01,  ..., 2.1235e-01,\n",
       "          0.0000e+00, 3.1319e-03],\n",
       "         [1.7988e-01, 0.0000e+00, 0.0000e+00,  ..., 1.4507e-01,\n",
       "          1.2545e-02, 0.0000e+00]],\n",
       "\n",
       "        [[1.2328e-01, 9.9247e-02, 9.6636e-03,  ..., 0.0000e+00,\n",
       "          1.1598e-02, 8.7065e-03],\n",
       "         [1.1330e-01, 0.0000e+00, 0.0000e+00,  ..., 1.9567e-03,\n",
       "          0.0000e+00, 4.2027e-02],\n",
       "         [2.1759e-01, 2.8512e-01, 2.7672e-02,  ..., 2.8989e-02,\n",
       "          4.0114e-03, 2.0189e-02],\n",
       "         ...,\n",
       "         [5.6258e-02, 1.3139e-01, 2.5522e-02,  ..., 0.0000e+00,\n",
       "          0.0000e+00, 3.7916e-03],\n",
       "         [5.9384e-02, 5.0612e-05, 0.0000e+00,  ..., 0.0000e+00,\n",
       "          4.0677e-02, 1.7014e-02],\n",
       "         [0.0000e+00, 1.3840e-01, 4.7900e-02,  ..., 8.4967e-02,\n",
       "          0.0000e+00, 0.0000e+00]]], grad_fn=<ReluBackward0>)"
      ]
     },
     "execution_count": 73,
     "metadata": {},
     "output_type": "execute_result"
    }
   ],
   "source": [
    "output_temporal"
   ]
  },
  {
   "cell_type": "code",
   "execution_count": 93,
   "id": "e4ddf016-17ce-4c6f-a2e5-93fa263a9ac8",
   "metadata": {},
   "outputs": [
    {
     "data": {
      "text/plain": [
       "torch.Size([32, 512, 98])"
      ]
     },
     "execution_count": 93,
     "metadata": {},
     "output_type": "execute_result"
    }
   ],
   "source": [
    "output_temporal.size()"
   ]
  },
  {
   "cell_type": "code",
   "execution_count": 33,
   "id": "a2a3813c-71e7-43bd-8d2e-b82fe01c3800",
   "metadata": {},
   "outputs": [],
   "source": [
    "temporal_conv_net = TemporalConvNet(96, [512, 512, 512])"
   ]
  },
  {
   "cell_type": "code",
   "execution_count": 35,
   "id": "b50ea456-c3bb-4ce7-b7a1-b72bdb2eaa1a",
   "metadata": {},
   "outputs": [],
   "source": [
    "output_temporal_conv_net = temporal_conv_net(dummy_input_0)"
   ]
  },
  {
   "cell_type": "code",
   "execution_count": 77,
   "id": "0dda9f0e-c151-4cb0-a3e9-d46b161f054c",
   "metadata": {
    "scrolled": true
   },
   "outputs": [
    {
     "data": {
      "text/plain": [
       "tensor([[[0.0249, 0.0278, 0.0253,  ..., 0.0000, 0.0185, 0.0000],\n",
       "         [0.0203, 0.0000, 0.1856,  ..., 0.0029, 0.0084, 0.0009],\n",
       "         [0.0361, 0.1856, 0.0498,  ..., 0.0000, 0.0000, 0.0000],\n",
       "         ...,\n",
       "         [0.0266, 0.0214, 0.1779,  ..., 0.0000, 0.0102, 0.0115],\n",
       "         [0.1257, 0.0316, 0.0000,  ..., 0.0000, 0.0000, 0.0000],\n",
       "         [0.1381, 0.0740, 0.1175,  ..., 0.0000, 0.0000, 0.0000]],\n",
       "\n",
       "        [[0.1560, 0.0338, 0.0129,  ..., 0.0168, 0.0184, 0.0190],\n",
       "         [0.0000, 0.0776, 0.2084,  ..., 0.0044, 0.0059, 0.0027],\n",
       "         [0.0862, 0.0733, 0.1529,  ..., 0.0000, 0.0000, 0.0000],\n",
       "         ...,\n",
       "         [0.0796, 0.1283, 0.2700,  ..., 0.0071, 0.0089, 0.0077],\n",
       "         [0.0000, 0.0000, 0.0619,  ..., 0.0000, 0.0000, 0.0000],\n",
       "         [0.0028, 0.0601, 0.1972,  ..., 0.0000, 0.0000, 0.0000]],\n",
       "\n",
       "        [[0.1644, 0.0188, 0.0992,  ..., 0.0239, 0.0170, 0.0170],\n",
       "         [0.1283, 0.0000, 0.0668,  ..., 0.0013, 0.0049, 0.0030],\n",
       "         [0.3076, 0.1029, 0.0309,  ..., 0.0000, 0.0000, 0.0000],\n",
       "         ...,\n",
       "         [0.0929, 0.1662, 0.1383,  ..., 0.0069, 0.0067, 0.0119],\n",
       "         [0.0000, 0.0000, 0.0000,  ..., 0.0000, 0.0000, 0.0000],\n",
       "         [0.0048, 0.0000, 0.1013,  ..., 0.0000, 0.0000, 0.0000]],\n",
       "\n",
       "        ...,\n",
       "\n",
       "        [[0.0301, 0.1603, 0.0735,  ..., 0.0177, 0.0160, 0.0154],\n",
       "         [0.0000, 0.0897, 0.0274,  ..., 0.0030, 0.0003, 0.0063],\n",
       "         [0.0782, 0.0761, 0.0397,  ..., 0.0000, 0.0000, 0.0000],\n",
       "         ...,\n",
       "         [0.1265, 0.0958, 0.1075,  ..., 0.0048, 0.0096, 0.0064],\n",
       "         [0.0000, 0.0000, 0.1094,  ..., 0.0000, 0.0000, 0.0000],\n",
       "         [0.1054, 0.0000, 0.1807,  ..., 0.0000, 0.0000, 0.0000]],\n",
       "\n",
       "        [[0.0982, 0.0430, 0.0694,  ..., 0.0221, 0.0162, 0.0174],\n",
       "         [0.0000, 0.0138, 0.0016,  ..., 0.0000, 0.0067, 0.0000],\n",
       "         [0.0691, 0.0786, 0.2445,  ..., 0.0000, 0.0000, 0.0000],\n",
       "         ...,\n",
       "         [0.1842, 0.1912, 0.2476,  ..., 0.0000, 0.0097, 0.0088],\n",
       "         [0.0000, 0.0000, 0.0000,  ..., 0.0000, 0.0000, 0.0000],\n",
       "         [0.0000, 0.0000, 0.2036,  ..., 0.0000, 0.0000, 0.0000]],\n",
       "\n",
       "        [[0.0125, 0.0000, 0.1155,  ..., 0.0177, 0.0146, 0.0161],\n",
       "         [0.1921, 0.0030, 0.0165,  ..., 0.0000, 0.0071, 0.0052],\n",
       "         [0.0315, 0.1361, 0.1899,  ..., 0.0000, 0.0000, 0.0000],\n",
       "         ...,\n",
       "         [0.1194, 0.0089, 0.1692,  ..., 0.0117, 0.0000, 0.0000],\n",
       "         [0.0000, 0.0000, 0.0216,  ..., 0.0000, 0.0000, 0.0000],\n",
       "         [0.0371, 0.2362, 0.2558,  ..., 0.0000, 0.0000, 0.0000]]],\n",
       "       grad_fn=<ReluBackward0>)"
      ]
     },
     "execution_count": 77,
     "metadata": {},
     "output_type": "execute_result"
    }
   ],
   "source": [
    "output_temporal_conv_net"
   ]
  },
  {
   "cell_type": "code",
   "execution_count": 36,
   "id": "fe8e0e88-d093-4c94-97cb-495b82e520ce",
   "metadata": {},
   "outputs": [
    {
     "data": {
      "text/plain": [
       "torch.Size([32, 512, 335])"
      ]
     },
     "execution_count": 36,
     "metadata": {},
     "output_type": "execute_result"
    }
   ],
   "source": [
    "output_temporal_conv_net.size()"
   ]
  },
  {
   "cell_type": "code",
   "execution_count": null,
   "id": "c6356dbd-72ba-4b0d-a292-511d13c9a445",
   "metadata": {},
   "outputs": [],
   "source": []
  }
 ],
 "metadata": {
  "kernelspec": {
   "display_name": "Python 3 (ipykernel)",
   "language": "python",
   "name": "python3"
  },
  "language_info": {
   "codemirror_mode": {
    "name": "ipython",
    "version": 3
   },
   "file_extension": ".py",
   "mimetype": "text/x-python",
   "name": "python",
   "nbconvert_exporter": "python",
   "pygments_lexer": "ipython3",
   "version": "3.11.9"
  }
 },
 "nbformat": 4,
 "nbformat_minor": 5
}
