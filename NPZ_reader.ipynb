{
 "cells": [
  {
   "cell_type": "code",
   "execution_count": 1,
   "id": "b7826caa-12cb-43e2-be39-1a75999b89cf",
   "metadata": {},
   "outputs": [],
   "source": [
    "import numpy as np\n",
    "import pandas as pd\n",
    "\n",
    "# dataset NPZ -> csv로 변환\n",
    "\n"
   ]
  },
  {
   "cell_type": "code",
   "execution_count": 3,
   "id": "11c43aec-bc04-4d15-9040-7370278af47e",
   "metadata": {},
   "outputs": [],
   "source": [
    "pems_list = ['PEMS03.npz', 'PEMS04.npz', 'PEMS07.npz', 'PEMS08.npz']\n",
    "pems_path = './dataset/PEMS/'\n",
    "\n",
    "pems_npz_1 = np.load(pems_path + pems_list[0])\n",
    "pems_npz_2 = np.load(pems_path + pems_list[1])\n",
    "pems_npz_3 = np.load(pems_path + pems_list[2])\n",
    "pems_npz_4 = np.load(pems_path + pems_list[3])"
   ]
  },
  {
   "cell_type": "code",
   "execution_count": 8,
   "id": "7bd0d0e7-522d-4ed7-9264-1922b832770f",
   "metadata": {
    "scrolled": true
   },
   "outputs": [
    {
     "data": {
      "text/plain": [
       "['__abstractmethods__',\n",
       " '__class__',\n",
       " '__class_getitem__',\n",
       " '__contains__',\n",
       " '__del__',\n",
       " '__delattr__',\n",
       " '__dict__',\n",
       " '__dir__',\n",
       " '__doc__',\n",
       " '__enter__',\n",
       " '__eq__',\n",
       " '__exit__',\n",
       " '__format__',\n",
       " '__ge__',\n",
       " '__getattribute__',\n",
       " '__getitem__',\n",
       " '__getstate__',\n",
       " '__gt__',\n",
       " '__hash__',\n",
       " '__init__',\n",
       " '__init_subclass__',\n",
       " '__iter__',\n",
       " '__le__',\n",
       " '__len__',\n",
       " '__lt__',\n",
       " '__module__',\n",
       " '__ne__',\n",
       " '__new__',\n",
       " '__reduce__',\n",
       " '__reduce_ex__',\n",
       " '__repr__',\n",
       " '__reversed__',\n",
       " '__setattr__',\n",
       " '__sizeof__',\n",
       " '__slots__',\n",
       " '__str__',\n",
       " '__subclasshook__',\n",
       " '__weakref__',\n",
       " '_abc_impl',\n",
       " '_files',\n",
       " 'allow_pickle',\n",
       " 'close',\n",
       " 'f',\n",
       " 'fid',\n",
       " 'files',\n",
       " 'get',\n",
       " 'items',\n",
       " 'keys',\n",
       " 'max_header_size',\n",
       " 'pickle_kwargs',\n",
       " 'values',\n",
       " 'zip']"
      ]
     },
     "execution_count": 8,
     "metadata": {},
     "output_type": "execute_result"
    }
   ],
   "source": [
    "dir(pems_npz_1)"
   ]
  },
  {
   "cell_type": "code",
   "execution_count": 13,
   "id": "18ad9401-ec2b-410d-bd75-ca2afe0bb0a8",
   "metadata": {
    "scrolled": true
   },
   "outputs": [
    {
     "name": "stdout",
     "output_type": "stream",
     "text": [
      "data\n"
     ]
    }
   ],
   "source": [
    "for key in pems_npz_2.keys():\n",
    "    print(key)"
   ]
  },
  {
   "cell_type": "code",
   "execution_count": 15,
   "id": "3a0c2c45-4e83-4722-9544-05c201503a6a",
   "metadata": {},
   "outputs": [],
   "source": [
    "pems_data_1 = pems_npz_1['data']\n",
    "pems_data_2 = pems_npz_2['data']\n",
    "pems_data_3 = pems_npz_3['data']\n",
    "pems_data_4 = pems_npz_4['data']"
   ]
  },
  {
   "cell_type": "code",
   "execution_count": 19,
   "id": "307227f1-9e1f-4173-86cb-7bdfb028b510",
   "metadata": {},
   "outputs": [
    {
     "data": {
      "text/plain": [
       "(26208, 358, 1)"
      ]
     },
     "execution_count": 19,
     "metadata": {},
     "output_type": "execute_result"
    }
   ],
   "source": [
    "pems_data_1.shape"
   ]
  },
  {
   "cell_type": "code",
   "execution_count": 20,
   "id": "582d78f8-22b1-4ba6-bb7f-fb57934c59d7",
   "metadata": {
    "scrolled": true
   },
   "outputs": [
    {
     "data": {
      "text/plain": [
       "(16992, 307, 3)"
      ]
     },
     "execution_count": 20,
     "metadata": {},
     "output_type": "execute_result"
    }
   ],
   "source": [
    "pems_data_2.shape"
   ]
  },
  {
   "cell_type": "code",
   "execution_count": 21,
   "id": "17747c85-9b4f-44d6-8b72-cca2071527b6",
   "metadata": {},
   "outputs": [
    {
     "data": {
      "text/plain": [
       "(28224, 883, 1)"
      ]
     },
     "execution_count": 21,
     "metadata": {},
     "output_type": "execute_result"
    }
   ],
   "source": [
    "pems_data_3.shape"
   ]
  },
  {
   "cell_type": "code",
   "execution_count": 22,
   "id": "6a9743a6-f700-4c28-bef9-1e007d5195d9",
   "metadata": {},
   "outputs": [
    {
     "data": {
      "text/plain": [
       "(17856, 170, 3)"
      ]
     },
     "execution_count": 22,
     "metadata": {},
     "output_type": "execute_result"
    }
   ],
   "source": [
    "pems_data_4.shape"
   ]
  },
  {
   "cell_type": "code",
   "execution_count": 23,
   "id": "ad1c2fcd-865c-4313-98c8-875ca7c9c584",
   "metadata": {},
   "outputs": [],
   "source": [
    "import matplotlib.pyplot as plt"
   ]
  },
  {
   "cell_type": "code",
   "execution_count": 24,
   "id": "46cc51c6-8baf-49f1-9021-9912ef28b457",
   "metadata": {
    "scrolled": true
   },
   "outputs": [
    {
     "data": {
      "text/plain": [
       "array([[ 20.,  20., 182., ...,  63., 115.,  63.],\n",
       "       [ 22.,  22., 174., ...,  63., 109.,  62.],\n",
       "       [ 22.,  22., 183., ...,  57., 115.,  57.],\n",
       "       ...,\n",
       "       [191., 188., 393., ..., 439., 380., 201.],\n",
       "       [187., 176., 471., ..., 416., 326., 179.],\n",
       "       [176., 164., 384., ..., 375., 317., 177.]])"
      ]
     },
     "execution_count": 24,
     "metadata": {},
     "output_type": "execute_result"
    }
   ],
   "source": [
    "pems_data_1[0:200, :,0]"
   ]
  },
  {
   "cell_type": "code",
   "execution_count": 25,
   "id": "18688d85-2fa5-4a03-85d8-a60b7bfc2d9b",
   "metadata": {},
   "outputs": [],
   "source": [
    "x_dat = np.array(range(200))"
   ]
  },
  {
   "cell_type": "code",
   "execution_count": null,
   "id": "500f3220-7abc-435e-959e-855783ea2da7",
   "metadata": {},
   "outputs": [],
   "source": [
    "!python -u run.py --is_training 1 --root_path ./dataset/PEMS/ --data_path PEMS04.npz --model_id PEMS04_96_12 --model iTransformer_TCN --data PEMS --features M --seq_len 96 --pred_len 12 --e_layers 4 --enc_in 307 --dec_in 307 --c_out 307 --des 'Exp' --d_model 1024 --d_ff 1024 --learning_rate 0.0005 --itr 1 --use_norm 0 --train_epochs 1"
   ]
  }
 ],
 "metadata": {
  "kernelspec": {
   "display_name": "Python 3 (ipykernel)",
   "language": "python",
   "name": "python3"
  },
  "language_info": {
   "codemirror_mode": {
    "name": "ipython",
    "version": 3
   },
   "file_extension": ".py",
   "mimetype": "text/x-python",
   "name": "python",
   "nbconvert_exporter": "python",
   "pygments_lexer": "ipython3",
   "version": "3.11.9"
  }
 },
 "nbformat": 4,
 "nbformat_minor": 5
}
